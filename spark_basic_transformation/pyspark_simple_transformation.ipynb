{
 "cells": [
  {
   "cell_type": "code",
   "execution_count": 4,
   "id": "59a99d2d",
   "metadata": {},
   "outputs": [],
   "source": [
    "import findspark\n",
    "import os"
   ]
  },
  {
   "cell_type": "code",
   "execution_count": 5,
   "id": "2c98e1fc",
   "metadata": {},
   "outputs": [],
   "source": [
    "findspark.init(\"/home/suriya/pySpark/spark-3.3.2-bin-hadoop3\")"
   ]
  },
  {
   "cell_type": "code",
   "execution_count": 6,
   "id": "33e9c18b",
   "metadata": {},
   "outputs": [],
   "source": [
    "from pyspark.sql import SparkSession\n",
    "from pyspark.sql import functions as F\n"
   ]
  },
  {
   "cell_type": "markdown",
   "id": "a302d2e5",
   "metadata": {},
   "source": [
    "### Absolute path of data"
   ]
  },
  {
   "cell_type": "code",
   "execution_count": 7,
   "id": "399a8325",
   "metadata": {},
   "outputs": [
    {
     "data": {
      "text/plain": [
       "'/home/suriya/pract/Python/DATA/data_engineer/spark_in_action/data.csv'"
      ]
     },
     "execution_count": 7,
     "metadata": {},
     "output_type": "execute_result"
    }
   ],
   "source": [
    "cur_dir=os.getcwd()\n",
    "rel_path='data.csv'\n",
    "abs_path=os.path.join(cur_dir,rel_path)\n",
    "abs_path"
   ]
  },
  {
   "cell_type": "markdown",
   "id": "debf547c",
   "metadata": {},
   "source": [
    "### Create spark session"
   ]
  },
  {
   "cell_type": "code",
   "execution_count": 8,
   "id": "00777750",
   "metadata": {},
   "outputs": [
    {
     "name": "stdout",
     "output_type": "stream",
     "text": [
      "23/04/20 22:31:49 WARN Utils: Your hostname, Lenovo-Legion resolves to a loopback address: 127.0.1.1; using 192.168.25.19 instead (on interface enp8s0)\n",
      "23/04/20 22:31:49 WARN Utils: Set SPARK_LOCAL_IP if you need to bind to another address\n"
     ]
    },
    {
     "name": "stderr",
     "output_type": "stream",
     "text": [
      "Setting default log level to \"WARN\".\n",
      "To adjust logging level use sc.setLogLevel(newLevel). For SparkR, use setLogLevel(newLevel).\n"
     ]
    },
    {
     "name": "stdout",
     "output_type": "stream",
     "text": [
      "23/04/20 22:31:49 WARN NativeCodeLoader: Unable to load native-hadoop library for your platform... using builtin-java classes where applicable\n",
      "23/04/20 22:31:50 WARN Utils: Service 'SparkUI' could not bind on port 4040. Attempting port 4041.\n"
     ]
    }
   ],
   "source": [
    "spark=SparkSession.builder.appName('simple transformation').master('local').getOrCreate()"
   ]
  },
  {
   "cell_type": "markdown",
   "id": "908c5554",
   "metadata": {},
   "source": [
    "### Generating df from a csv file"
   ]
  },
  {
   "cell_type": "code",
   "execution_count": 9,
   "id": "b7f775f5",
   "metadata": {},
   "outputs": [],
   "source": [
    "df=spark.read.csv(path=abs_path,header=True,inferSchema=True)"
   ]
  },
  {
   "cell_type": "code",
   "execution_count": 10,
   "id": "0ff10d12",
   "metadata": {},
   "outputs": [],
   "source": [
    "df=df.withColumn(\"name\",F.concat(F.col('lname'),F.lit(','),F.col('fname')))"
   ]
  },
  {
   "cell_type": "code",
   "execution_count": 11,
   "id": "eb8124cd",
   "metadata": {},
   "outputs": [
    {
     "data": {
      "text/plain": [
       "[Row(lname='Pascal', fname='Blaise', name='Pascal,Blaise'),\n",
       " Row(lname='Voltaire', fname='François', name='Voltaire,François'),\n",
       " Row(lname='Perrin', fname='Jean-Georges', name='Perrin,Jean-Georges'),\n",
       " Row(lname='Maréchal', fname='Pierre Sylvain', name='Maréchal,Pierre Sylvain'),\n",
       " Row(lname='Karau', fname='Holden', name='Karau,Holden')]"
      ]
     },
     "execution_count": 11,
     "metadata": {},
     "output_type": "execute_result"
    }
   ],
   "source": [
    "df.head(5)"
   ]
  },
  {
   "cell_type": "markdown",
   "id": "9c981739",
   "metadata": {},
   "source": [
    "### Connection properties to PG"
   ]
  },
  {
   "cell_type": "code",
   "execution_count": 12,
   "id": "8cf574bc",
   "metadata": {},
   "outputs": [],
   "source": [
    "dbConnectionUrl = \"jdbc:postgresql://localhost:5432/spark_test\""
   ]
  },
  {
   "cell_type": "code",
   "execution_count": 13,
   "id": "cd078a14",
   "metadata": {},
   "outputs": [],
   "source": [
    "prop = {\"driver\":\"org.postgresql.Driver\", \"user\":\"postgres\", \"password\":\"test\"}"
   ]
  },
  {
   "cell_type": "markdown",
   "id": "2c164d75",
   "metadata": {},
   "source": [
    "### Connect and Write to db"
   ]
  },
  {
   "cell_type": "code",
   "execution_count": 16,
   "id": "79b8c8d4",
   "metadata": {},
   "outputs": [],
   "source": [
    "df.write.jdbc(mode='overwrite', url=dbConnectionUrl, table=\"name\", properties=prop)"
   ]
  },
  {
   "cell_type": "code",
   "execution_count": null,
   "id": "5bcd5607",
   "metadata": {},
   "outputs": [],
   "source": []
  }
 ],
 "metadata": {
  "kernelspec": {
   "display_name": "venv_data_eng",
   "language": "python",
   "name": "venv_data_eng"
  },
  "language_info": {
   "codemirror_mode": {
    "name": "ipython",
    "version": 3
   },
   "file_extension": ".py",
   "mimetype": "text/x-python",
   "name": "python",
   "nbconvert_exporter": "python",
   "pygments_lexer": "ipython3",
   "version": "3.8.10"
  }
 },
 "nbformat": 4,
 "nbformat_minor": 5
}
